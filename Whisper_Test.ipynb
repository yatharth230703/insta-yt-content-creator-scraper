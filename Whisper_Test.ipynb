{
  "cells": [
    {
      "cell_type": "code",
      "execution_count": 1,
      "metadata": {
        "colab": {
          "base_uri": "https://localhost:8080/"
        },
        "id": "v_ktygS22ZMx",
        "outputId": "d934526d-a7f3-4208-dd24-10fae2e4eb71"
      },
      "outputs": [
        {
          "name": "stdout",
          "output_type": "stream",
          "text": [
            "Requirement already satisfied: pydub in c:\\python11\\lib\\site-packages (0.25.1)\n"
          ]
        },
        {
          "name": "stderr",
          "output_type": "stream",
          "text": [
            "DEPRECATION: Loading egg at c:\\python11\\lib\\site-packages\\vboxapi-1.0-py3.11.egg is deprecated. pip 24.3 will enforce this behaviour change. A possible replacement is to use pip for package installation.. Discussion can be found at https://github.com/pypa/pip/issues/12330\n"
          ]
        }
      ],
      "source": [
        "!pip install pydub"
      ]
    },
    {
      "cell_type": "code",
      "execution_count": 3,
      "metadata": {
        "id": "qAFhJ1i4xaSC"
      },
      "outputs": [],
      "source": [
        "from transformers import pipeline\n",
        "import torch\n",
        "from pydub import AudioSegment\n",
        "import numpy as np"
      ]
    },
    {
      "cell_type": "code",
      "execution_count": 4,
      "metadata": {
        "id": "QlzokAJE0IXM"
      },
      "outputs": [],
      "source": [
        "device = \"cuda:0\" if torch.cuda.is_available() else \"cpu\""
      ]
    },
    {
      "cell_type": "code",
      "execution_count": 5,
      "metadata": {
        "colab": {
          "base_uri": "https://localhost:8080/"
        },
        "id": "yGY6Nvin0DsZ",
        "outputId": "8e4db233-422a-4b0a-bcf4-24039e301c45"
      },
      "outputs": [
        {
          "name": "stderr",
          "output_type": "stream",
          "text": [
            "Special tokens have been added in the vocabulary, make sure the associated word embeddings are fine-tuned or trained.\n"
          ]
        }
      ],
      "source": [
        "pipe = pipeline(\n",
        "  \"automatic-speech-recognition\",\n",
        "  model=\"openai/whisper-tiny\",\n",
        "  chunk_length_s=30,\n",
        "  device=device,\n",
        ")"
      ]
    },
    {
      "cell_type": "code",
      "execution_count": null,
      "metadata": {
        "id": "0McUH8lQ2RZs"
      },
      "outputs": [],
      "source": [
        "def load_audio(path, format):\n",
        "  audio = AudioSegment.from_file(path, format=format)\n",
        "\n",
        "  if audio.frame_rate != 16000: # 16 kHz\n",
        "    audio = audio.set_frame_rate(16000)\n",
        "\n",
        "  if audio.sample_width != 2:   # int16\n",
        "      audio = audio.set_sample_width(2)\n",
        "\n",
        "  if audio.channels != 1: # mono\n",
        "      audio = audio.set_channels(1)\n",
        "\n",
        "  arr = np.array(audio.get_array_of_samples())\n",
        "  arr = arr.astype(np.float32)/32768.0\n",
        "\n",
        "  return arr"
      ]
    },
    {
      "cell_type": "code",
      "execution_count": null,
      "metadata": {
        "id": "kHATfrTJ6N9F"
      },
      "outputs": [],
      "source": [
        "path = '/content/drive/MyDrive/sample3.flac'\n",
        "format = 'flac'"
      ]
    },
    {
      "cell_type": "code",
      "execution_count": null,
      "metadata": {
        "id": "co7Dip5O575_"
      },
      "outputs": [],
      "source": [
        "data = {\n",
        "    'path': path,\n",
        "    'array': load_audio(path, format),\n",
        "    'sampling_rate': 16000\n",
        "    }"
      ]
    },
    {
      "cell_type": "code",
      "execution_count": null,
      "metadata": {
        "colab": {
          "base_uri": "https://localhost:8080/"
        },
        "id": "l9fQgZYKyDv8",
        "outputId": "5e742646-0fa6-450c-f9b7-41343623a9d2"
      },
      "outputs": [
        {
          "name": "stdout",
          "output_type": "stream",
          "text": [
            " fight of crime and send us a gas thing but no way that was time they didn't want to kill us but they wanted to scare us yeah well they succeeded okay I'm tired of this right? Tired of explosions and people pointing guns at me I want to go back to my desk guess what life gets loud sometimes and messes with your ears you can't escape it by hiding it your desk for your whole life. You know what? Yes, you can. I've done it for years. Okay, there's no explosions at my desk. There's no explosions at my home with my plane wife in my plane house. What are you afraid of, man? I'm your partner. You can tell me what the hell are you hiding from? I was a sophomore in college. The university I went to decided they needed to raise tuition. Classmen of mine, Brenda. And I offered to raise money and stay in school. Came up with a nifty plan, where she thought she'd date guys and charge a money. I go on dates all the time with a whole bunch of you know boys and stuff and I kind of need somebody to help me out like you know my partner in crime. Yeah, I could make a schedule. Yeah, yeah, yeah, that's what I was thinking. Provide transportation services. Yeah, yeah. I'm gonna make a good time. Thanks so much for that. I said she needed my help to make sure that the dates went okay and that the guys paid her She said she'd give me a percentage. Oh my god, you were a pen. What? God-known. No, I was just trying to help a friend We started making a lot of money And when you know at some of Brenda's girlfriends decided they wanted to be a part of it Pretty soon there are about 14 ladies that I was protecting while they gave me money. That's called the stable horse. You started I shouldn't use my real name. So we came up with the name Gator. Telling the Europe. No. Are you even listening to the story? Anyway one day I wake up and I look in the mirror and I don't like what I see. I mean, I had gotten out of control and I didn't even realize it. I can't have a conscience in the pincane. One night two of my favorite girls, Candy and Jolene, said we got to take you in. They dropped me off at the emergency room. That's where I met Sheila. I was a mess. I made a promise to myself and to her that I would never get out of control again. So as soon as I graduated from college, I became an accountant for the police department. The most stable job I could think of in a accountant for law and order. I just don't want to ever feel out of control like that ever again. Don't worry, I got you bad. Well, I say we go get nourished on the grill and see if you crack. Tie it about this tipy tone around. Okay. you\n"
          ]
        }
      ],
      "source": [
        "prediction = pipe(data.copy(), batch_size=8)[\"text\"]\n",
        "print(prediction)"
      ]
    },
    {
      "cell_type": "code",
      "execution_count": null,
      "metadata": {
        "id": "5syOl1BG97sa"
      },
      "outputs": [],
      "source": []
    }
  ],
  "metadata": {
    "colab": {
      "provenance": []
    },
    "kernelspec": {
      "display_name": "Python 3",
      "name": "python3"
    },
    "language_info": {
      "codemirror_mode": {
        "name": "ipython",
        "version": 3
      },
      "file_extension": ".py",
      "mimetype": "text/x-python",
      "name": "python",
      "nbconvert_exporter": "python",
      "pygments_lexer": "ipython3",
      "version": "3.11.7"
    }
  },
  "nbformat": 4,
  "nbformat_minor": 0
}
